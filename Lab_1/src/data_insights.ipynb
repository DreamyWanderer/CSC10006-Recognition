{
 "cells": [
  {
   "cell_type": "code",
   "execution_count": 3,
   "metadata": {},
   "outputs": [],
   "source": [
    "import pandas as pd"
   ]
  },
  {
   "cell_type": "code",
   "execution_count": 6,
   "metadata": {},
   "outputs": [],
   "source": [
    "def load_label_dataset():\n",
    "\n",
    "    label_train_set = pd.read_csv(\"../data/plant-pathology-2020-fgvc7/train.csv\")\n",
    "\n",
    "    print(\"[Overview of label in the training set]\")\n",
    "    label_train_set.info()\n",
    "    print()\n",
    "\n",
    "    print(\"[Number of intanses of each category]\")\n",
    "    print( label_train_set[\"healthy\"].value_counts(), '\\n')\n",
    "    print( label_train_set[\"multiple_diseases\"].value_counts(), '\\n')\n",
    "    print( label_train_set[\"rust\"].value_counts(), '\\n')\n",
    "    print( label_train_set[\"scab\"].value_counts(), '\\n')\n",
    "\n",
    "    print( label_train_set.describe() )"
   ]
  },
  {
   "cell_type": "code",
   "execution_count": 7,
   "metadata": {},
   "outputs": [
    {
     "name": "stdout",
     "output_type": "stream",
     "text": [
      "[Overview of label in the training set]\n",
      "<class 'pandas.core.frame.DataFrame'>\n",
      "RangeIndex: 1821 entries, 0 to 1820\n",
      "Data columns (total 5 columns):\n",
      " #   Column             Non-Null Count  Dtype \n",
      "---  ------             --------------  ----- \n",
      " 0   image_id           1821 non-null   object\n",
      " 1   healthy            1821 non-null   int64 \n",
      " 2   multiple_diseases  1821 non-null   int64 \n",
      " 3   rust               1821 non-null   int64 \n",
      " 4   scab               1821 non-null   int64 \n",
      "dtypes: int64(4), object(1)\n",
      "memory usage: 71.3+ KB\n",
      "\n",
      "[Number of intanses of each category]\n",
      "0    1305\n",
      "1     516\n",
      "Name: healthy, dtype: int64 \n",
      "\n",
      "0    1730\n",
      "1      91\n",
      "Name: multiple_diseases, dtype: int64 \n",
      "\n",
      "0    1199\n",
      "1     622\n",
      "Name: rust, dtype: int64 \n",
      "\n",
      "0    1229\n",
      "1     592\n",
      "Name: scab, dtype: int64 \n",
      "\n",
      "           healthy  multiple_diseases         rust         scab\n",
      "count  1821.000000        1821.000000  1821.000000  1821.000000\n",
      "mean      0.283361           0.049973     0.341571     0.325096\n",
      "std       0.450754           0.217948     0.474367     0.468539\n",
      "min       0.000000           0.000000     0.000000     0.000000\n",
      "25%       0.000000           0.000000     0.000000     0.000000\n",
      "50%       0.000000           0.000000     0.000000     0.000000\n",
      "75%       1.000000           0.000000     1.000000     1.000000\n",
      "max       1.000000           1.000000     1.000000     1.000000\n"
     ]
    }
   ],
   "source": [
    "load_label_dataset()"
   ]
  }
 ],
 "metadata": {
  "kernelspec": {
   "display_name": "base",
   "language": "python",
   "name": "python3"
  },
  "language_info": {
   "codemirror_mode": {
    "name": "ipython",
    "version": 3
   },
   "file_extension": ".py",
   "mimetype": "text/x-python",
   "name": "python",
   "nbconvert_exporter": "python",
   "pygments_lexer": "ipython3",
   "version": "3.9.16"
  },
  "orig_nbformat": 4
 },
 "nbformat": 4,
 "nbformat_minor": 2
}
